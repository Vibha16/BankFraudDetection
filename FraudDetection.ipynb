{
  "cells": [
    {
      "cell_type": "markdown",
      "id": "18021939",
      "metadata": {
        "id": "18021939"
      },
      "source": [
        "# Fraud Detection "
      ]
    },
    {
      "cell_type": "code",
      "execution_count": null,
      "id": "25fbd3f0",
      "metadata": {
        "id": "25fbd3f0"
      },
      "outputs": [],
      "source": [
        "import pandas as pd \n",
        "import numpy as np\n",
        "import matplotlib.pyplot as plt\n",
        "dataset = pd.read_csv('Downloads\\Fraud.csv')"
      ]
    },
    {
      "cell_type": "code",
      "execution_count": null,
      "id": "86143902",
      "metadata": {
        "id": "86143902",
        "outputId": "36dc48f4-98ca-4cd8-9f98-f5db65646b48"
      },
      "outputs": [
        {
          "data": {
            "text/html": [
              "<div>\n",
              "<style scoped>\n",
              "    .dataframe tbody tr th:only-of-type {\n",
              "        vertical-align: middle;\n",
              "    }\n",
              "\n",
              "    .dataframe tbody tr th {\n",
              "        vertical-align: top;\n",
              "    }\n",
              "\n",
              "    .dataframe thead th {\n",
              "        text-align: right;\n",
              "    }\n",
              "</style>\n",
              "<table border=\"1\" class=\"dataframe\">\n",
              "  <thead>\n",
              "    <tr style=\"text-align: right;\">\n",
              "      <th></th>\n",
              "      <th>step</th>\n",
              "      <th>type</th>\n",
              "      <th>amount</th>\n",
              "      <th>nameOrig</th>\n",
              "      <th>oldbalanceOrg</th>\n",
              "      <th>newbalanceOrig</th>\n",
              "      <th>nameDest</th>\n",
              "      <th>oldbalanceDest</th>\n",
              "      <th>newbalanceDest</th>\n",
              "      <th>isFraud</th>\n",
              "      <th>isFlaggedFraud</th>\n",
              "    </tr>\n",
              "  </thead>\n",
              "  <tbody>\n",
              "    <tr>\n",
              "      <th>0</th>\n",
              "      <td>1</td>\n",
              "      <td>PAYMENT</td>\n",
              "      <td>9839.64</td>\n",
              "      <td>C1231006815</td>\n",
              "      <td>170136.0</td>\n",
              "      <td>160296.36</td>\n",
              "      <td>M1979787155</td>\n",
              "      <td>0.0</td>\n",
              "      <td>0.0</td>\n",
              "      <td>0</td>\n",
              "      <td>0</td>\n",
              "    </tr>\n",
              "    <tr>\n",
              "      <th>1</th>\n",
              "      <td>1</td>\n",
              "      <td>PAYMENT</td>\n",
              "      <td>1864.28</td>\n",
              "      <td>C1666544295</td>\n",
              "      <td>21249.0</td>\n",
              "      <td>19384.72</td>\n",
              "      <td>M2044282225</td>\n",
              "      <td>0.0</td>\n",
              "      <td>0.0</td>\n",
              "      <td>0</td>\n",
              "      <td>0</td>\n",
              "    </tr>\n",
              "    <tr>\n",
              "      <th>2</th>\n",
              "      <td>1</td>\n",
              "      <td>TRANSFER</td>\n",
              "      <td>181.00</td>\n",
              "      <td>C1305486145</td>\n",
              "      <td>181.0</td>\n",
              "      <td>0.00</td>\n",
              "      <td>C553264065</td>\n",
              "      <td>0.0</td>\n",
              "      <td>0.0</td>\n",
              "      <td>1</td>\n",
              "      <td>0</td>\n",
              "    </tr>\n",
              "    <tr>\n",
              "      <th>3</th>\n",
              "      <td>1</td>\n",
              "      <td>CASH_OUT</td>\n",
              "      <td>181.00</td>\n",
              "      <td>C840083671</td>\n",
              "      <td>181.0</td>\n",
              "      <td>0.00</td>\n",
              "      <td>C38997010</td>\n",
              "      <td>21182.0</td>\n",
              "      <td>0.0</td>\n",
              "      <td>1</td>\n",
              "      <td>0</td>\n",
              "    </tr>\n",
              "    <tr>\n",
              "      <th>4</th>\n",
              "      <td>1</td>\n",
              "      <td>PAYMENT</td>\n",
              "      <td>11668.14</td>\n",
              "      <td>C2048537720</td>\n",
              "      <td>41554.0</td>\n",
              "      <td>29885.86</td>\n",
              "      <td>M1230701703</td>\n",
              "      <td>0.0</td>\n",
              "      <td>0.0</td>\n",
              "      <td>0</td>\n",
              "      <td>0</td>\n",
              "    </tr>\n",
              "  </tbody>\n",
              "</table>\n",
              "</div>"
            ],
            "text/plain": [
              "   step      type    amount     nameOrig  oldbalanceOrg  newbalanceOrig  \\\n",
              "0     1   PAYMENT   9839.64  C1231006815       170136.0       160296.36   \n",
              "1     1   PAYMENT   1864.28  C1666544295        21249.0        19384.72   \n",
              "2     1  TRANSFER    181.00  C1305486145          181.0            0.00   \n",
              "3     1  CASH_OUT    181.00   C840083671          181.0            0.00   \n",
              "4     1   PAYMENT  11668.14  C2048537720        41554.0        29885.86   \n",
              "\n",
              "      nameDest  oldbalanceDest  newbalanceDest  isFraud  isFlaggedFraud  \n",
              "0  M1979787155             0.0             0.0        0               0  \n",
              "1  M2044282225             0.0             0.0        0               0  \n",
              "2   C553264065             0.0             0.0        1               0  \n",
              "3    C38997010         21182.0             0.0        1               0  \n",
              "4  M1230701703             0.0             0.0        0               0  "
            ]
          },
          "execution_count": 2,
          "metadata": {},
          "output_type": "execute_result"
        }
      ],
      "source": [
        "#loading the dataset\n",
        "dataset.head()"
      ]
    },
    {
      "cell_type": "code",
      "execution_count": null,
      "id": "0c69fb98",
      "metadata": {
        "id": "0c69fb98",
        "outputId": "0d7d10e7-d93a-4a4d-e44b-23d104eea673"
      },
      "outputs": [
        {
          "data": {
            "text/html": [
              "<div>\n",
              "<style scoped>\n",
              "    .dataframe tbody tr th:only-of-type {\n",
              "        vertical-align: middle;\n",
              "    }\n",
              "\n",
              "    .dataframe tbody tr th {\n",
              "        vertical-align: top;\n",
              "    }\n",
              "\n",
              "    .dataframe thead th {\n",
              "        text-align: right;\n",
              "    }\n",
              "</style>\n",
              "<table border=\"1\" class=\"dataframe\">\n",
              "  <thead>\n",
              "    <tr style=\"text-align: right;\">\n",
              "      <th></th>\n",
              "      <th>step</th>\n",
              "      <th>type</th>\n",
              "      <th>amount</th>\n",
              "      <th>nameOrig</th>\n",
              "      <th>oldbalanceOrg</th>\n",
              "      <th>newbalanceOrig</th>\n",
              "      <th>nameDest</th>\n",
              "      <th>oldbalanceDest</th>\n",
              "      <th>newbalanceDest</th>\n",
              "      <th>isFraud</th>\n",
              "      <th>isFlaggedFraud</th>\n",
              "    </tr>\n",
              "  </thead>\n",
              "  <tbody>\n",
              "    <tr>\n",
              "      <th>6362615</th>\n",
              "      <td>743</td>\n",
              "      <td>CASH_OUT</td>\n",
              "      <td>339682.13</td>\n",
              "      <td>C786484425</td>\n",
              "      <td>339682.13</td>\n",
              "      <td>0.0</td>\n",
              "      <td>C776919290</td>\n",
              "      <td>0.00</td>\n",
              "      <td>339682.13</td>\n",
              "      <td>1</td>\n",
              "      <td>0</td>\n",
              "    </tr>\n",
              "    <tr>\n",
              "      <th>6362616</th>\n",
              "      <td>743</td>\n",
              "      <td>TRANSFER</td>\n",
              "      <td>6311409.28</td>\n",
              "      <td>C1529008245</td>\n",
              "      <td>6311409.28</td>\n",
              "      <td>0.0</td>\n",
              "      <td>C1881841831</td>\n",
              "      <td>0.00</td>\n",
              "      <td>0.00</td>\n",
              "      <td>1</td>\n",
              "      <td>0</td>\n",
              "    </tr>\n",
              "    <tr>\n",
              "      <th>6362617</th>\n",
              "      <td>743</td>\n",
              "      <td>CASH_OUT</td>\n",
              "      <td>6311409.28</td>\n",
              "      <td>C1162922333</td>\n",
              "      <td>6311409.28</td>\n",
              "      <td>0.0</td>\n",
              "      <td>C1365125890</td>\n",
              "      <td>68488.84</td>\n",
              "      <td>6379898.11</td>\n",
              "      <td>1</td>\n",
              "      <td>0</td>\n",
              "    </tr>\n",
              "    <tr>\n",
              "      <th>6362618</th>\n",
              "      <td>743</td>\n",
              "      <td>TRANSFER</td>\n",
              "      <td>850002.52</td>\n",
              "      <td>C1685995037</td>\n",
              "      <td>850002.52</td>\n",
              "      <td>0.0</td>\n",
              "      <td>C2080388513</td>\n",
              "      <td>0.00</td>\n",
              "      <td>0.00</td>\n",
              "      <td>1</td>\n",
              "      <td>0</td>\n",
              "    </tr>\n",
              "    <tr>\n",
              "      <th>6362619</th>\n",
              "      <td>743</td>\n",
              "      <td>CASH_OUT</td>\n",
              "      <td>850002.52</td>\n",
              "      <td>C1280323807</td>\n",
              "      <td>850002.52</td>\n",
              "      <td>0.0</td>\n",
              "      <td>C873221189</td>\n",
              "      <td>6510099.11</td>\n",
              "      <td>7360101.63</td>\n",
              "      <td>1</td>\n",
              "      <td>0</td>\n",
              "    </tr>\n",
              "  </tbody>\n",
              "</table>\n",
              "</div>"
            ],
            "text/plain": [
              "         step      type      amount     nameOrig  oldbalanceOrg  \\\n",
              "6362615   743  CASH_OUT   339682.13   C786484425      339682.13   \n",
              "6362616   743  TRANSFER  6311409.28  C1529008245     6311409.28   \n",
              "6362617   743  CASH_OUT  6311409.28  C1162922333     6311409.28   \n",
              "6362618   743  TRANSFER   850002.52  C1685995037      850002.52   \n",
              "6362619   743  CASH_OUT   850002.52  C1280323807      850002.52   \n",
              "\n",
              "         newbalanceOrig     nameDest  oldbalanceDest  newbalanceDest  isFraud  \\\n",
              "6362615             0.0   C776919290            0.00       339682.13        1   \n",
              "6362616             0.0  C1881841831            0.00            0.00        1   \n",
              "6362617             0.0  C1365125890        68488.84      6379898.11        1   \n",
              "6362618             0.0  C2080388513            0.00            0.00        1   \n",
              "6362619             0.0   C873221189      6510099.11      7360101.63        1   \n",
              "\n",
              "         isFlaggedFraud  \n",
              "6362615               0  \n",
              "6362616               0  \n",
              "6362617               0  \n",
              "6362618               0  \n",
              "6362619               0  "
            ]
          },
          "execution_count": 3,
          "metadata": {},
          "output_type": "execute_result"
        }
      ],
      "source": [
        "# Printing the last 5 rows\n",
        "dataset.tail()"
      ]
    },
    {
      "cell_type": "code",
      "execution_count": null,
      "id": "bda3fde2",
      "metadata": {
        "id": "bda3fde2",
        "outputId": "0309faee-bc09-4ee5-e4ac-364395e73c6c"
      },
      "outputs": [
        {
          "name": "stdout",
          "output_type": "stream",
          "text": [
            "<class 'pandas.core.frame.DataFrame'>\n",
            "RangeIndex: 6362620 entries, 0 to 6362619\n",
            "Data columns (total 11 columns):\n",
            " #   Column          Dtype  \n",
            "---  ------          -----  \n",
            " 0   step            int64  \n",
            " 1   type            object \n",
            " 2   amount          float64\n",
            " 3   nameOrig        object \n",
            " 4   oldbalanceOrg   float64\n",
            " 5   newbalanceOrig  float64\n",
            " 6   nameDest        object \n",
            " 7   oldbalanceDest  float64\n",
            " 8   newbalanceDest  float64\n",
            " 9   isFraud         int64  \n",
            " 10  isFlaggedFraud  int64  \n",
            "dtypes: float64(5), int64(3), object(3)\n",
            "memory usage: 534.0+ MB\n"
          ]
        }
      ],
      "source": [
        "#Getting the dataset information\n",
        "dataset.info()"
      ]
    },
    {
      "cell_type": "markdown",
      "id": "00aefe49",
      "metadata": {
        "id": "00aefe49"
      },
      "source": [
        "## features of our dataset\n",
        "\n",
        "step- Steps represent the day a transaction happened. There are 743 steps in total\n",
        "\n",
        "type- Type represents the type of payment done which consists values like payment, debit, transfer, cash_out, cash_in\n",
        "\n",
        "amount- Represents the value of the transactions.\n",
        "\n",
        "nameOrig- This is the unique id of every customer which starts with the letter C and is followed by unique sequence of numbers.\n",
        "\n",
        "oldbalanceOrg- initial balance\n",
        "\n",
        "newbalanceOrg- balance after transaction\n",
        "\n",
        "nameDest- Recipient of the transaction which is a unique value\n",
        "\n",
        "oldBalanceDest- initial balance of the recipient\n",
        "\n",
        "newbalanceDest- new balance after of the recipent after transaction\n",
        "\n",
        "isFraud- Checks for fraud and non fraud transactions\n",
        "\n",
        "isFlaggedFraud- if there is an illegal attempt\n"
      ]
    },
    {
      "cell_type": "code",
      "execution_count": null,
      "id": "3c5a78a9",
      "metadata": {
        "id": "3c5a78a9",
        "outputId": "13a20815-6017-4699-f0b1-10494939d594"
      },
      "outputs": [
        {
          "data": {
            "text/plain": [
              "step              0\n",
              "type              0\n",
              "amount            0\n",
              "nameOrig          0\n",
              "oldbalanceOrg     0\n",
              "newbalanceOrig    0\n",
              "nameDest          0\n",
              "oldbalanceDest    0\n",
              "newbalanceDest    0\n",
              "isFraud           0\n",
              "isFlaggedFraud    0\n",
              "dtype: int64"
            ]
          },
          "execution_count": 5,
          "metadata": {},
          "output_type": "execute_result"
        }
      ],
      "source": [
        "# Checking the number of missing values in each coloumn \n",
        "dataset.isnull().sum()"
      ]
    },
    {
      "cell_type": "markdown",
      "id": "bdfa49f5",
      "metadata": {
        "id": "bdfa49f5"
      },
      "source": [
        "There are no missing values in this dataset"
      ]
    },
    {
      "cell_type": "code",
      "execution_count": null,
      "id": "928acb75",
      "metadata": {
        "id": "928acb75",
        "outputId": "363b6574-a44d-479a-bc84-f1338b28d0ce"
      },
      "outputs": [
        {
          "data": {
            "text/plain": [
              "0    6354407\n",
              "1       8213\n",
              "Name: isFraud, dtype: int64"
            ]
          },
          "execution_count": 6,
          "metadata": {},
          "output_type": "execute_result"
        }
      ],
      "source": [
        "dataset['isFraud'].value_counts()"
      ]
    },
    {
      "cell_type": "markdown",
      "id": "db74c8d4",
      "metadata": {
        "id": "db74c8d4"
      },
      "source": [
        "Here 0 represents normal transactions \n",
        "1 represents fradulent transactions"
      ]
    },
    {
      "cell_type": "code",
      "execution_count": null,
      "id": "15c17229",
      "metadata": {
        "id": "15c17229",
        "outputId": "73a28b3b-f6f4-4803-8ca4-576f033df932"
      },
      "outputs": [
        {
          "data": {
            "text/html": [
              "<div>\n",
              "<style scoped>\n",
              "    .dataframe tbody tr th:only-of-type {\n",
              "        vertical-align: middle;\n",
              "    }\n",
              "\n",
              "    .dataframe tbody tr th {\n",
              "        vertical-align: top;\n",
              "    }\n",
              "\n",
              "    .dataframe thead th {\n",
              "        text-align: right;\n",
              "    }\n",
              "</style>\n",
              "<table border=\"1\" class=\"dataframe\">\n",
              "  <thead>\n",
              "    <tr style=\"text-align: right;\">\n",
              "      <th></th>\n",
              "      <th>step</th>\n",
              "      <th>amount</th>\n",
              "      <th>oldbalanceOrg</th>\n",
              "      <th>newbalanceOrig</th>\n",
              "      <th>oldbalanceDest</th>\n",
              "      <th>newbalanceDest</th>\n",
              "      <th>isFraud</th>\n",
              "      <th>isFlaggedFraud</th>\n",
              "    </tr>\n",
              "  </thead>\n",
              "  <tbody>\n",
              "    <tr>\n",
              "      <th>count</th>\n",
              "      <td>6.362620e+06</td>\n",
              "      <td>6.362620e+06</td>\n",
              "      <td>6.362620e+06</td>\n",
              "      <td>6.362620e+06</td>\n",
              "      <td>6.362620e+06</td>\n",
              "      <td>6.362620e+06</td>\n",
              "      <td>6.362620e+06</td>\n",
              "      <td>6.362620e+06</td>\n",
              "    </tr>\n",
              "    <tr>\n",
              "      <th>mean</th>\n",
              "      <td>2.433972e+02</td>\n",
              "      <td>1.798619e+05</td>\n",
              "      <td>8.338831e+05</td>\n",
              "      <td>8.551137e+05</td>\n",
              "      <td>1.100702e+06</td>\n",
              "      <td>1.224996e+06</td>\n",
              "      <td>1.290820e-03</td>\n",
              "      <td>2.514687e-06</td>\n",
              "    </tr>\n",
              "    <tr>\n",
              "      <th>std</th>\n",
              "      <td>1.423320e+02</td>\n",
              "      <td>6.038582e+05</td>\n",
              "      <td>2.888243e+06</td>\n",
              "      <td>2.924049e+06</td>\n",
              "      <td>3.399180e+06</td>\n",
              "      <td>3.674129e+06</td>\n",
              "      <td>3.590480e-02</td>\n",
              "      <td>1.585775e-03</td>\n",
              "    </tr>\n",
              "    <tr>\n",
              "      <th>min</th>\n",
              "      <td>1.000000e+00</td>\n",
              "      <td>0.000000e+00</td>\n",
              "      <td>0.000000e+00</td>\n",
              "      <td>0.000000e+00</td>\n",
              "      <td>0.000000e+00</td>\n",
              "      <td>0.000000e+00</td>\n",
              "      <td>0.000000e+00</td>\n",
              "      <td>0.000000e+00</td>\n",
              "    </tr>\n",
              "    <tr>\n",
              "      <th>25%</th>\n",
              "      <td>1.560000e+02</td>\n",
              "      <td>1.338957e+04</td>\n",
              "      <td>0.000000e+00</td>\n",
              "      <td>0.000000e+00</td>\n",
              "      <td>0.000000e+00</td>\n",
              "      <td>0.000000e+00</td>\n",
              "      <td>0.000000e+00</td>\n",
              "      <td>0.000000e+00</td>\n",
              "    </tr>\n",
              "    <tr>\n",
              "      <th>50%</th>\n",
              "      <td>2.390000e+02</td>\n",
              "      <td>7.487194e+04</td>\n",
              "      <td>1.420800e+04</td>\n",
              "      <td>0.000000e+00</td>\n",
              "      <td>1.327057e+05</td>\n",
              "      <td>2.146614e+05</td>\n",
              "      <td>0.000000e+00</td>\n",
              "      <td>0.000000e+00</td>\n",
              "    </tr>\n",
              "    <tr>\n",
              "      <th>75%</th>\n",
              "      <td>3.350000e+02</td>\n",
              "      <td>2.087215e+05</td>\n",
              "      <td>1.073152e+05</td>\n",
              "      <td>1.442584e+05</td>\n",
              "      <td>9.430367e+05</td>\n",
              "      <td>1.111909e+06</td>\n",
              "      <td>0.000000e+00</td>\n",
              "      <td>0.000000e+00</td>\n",
              "    </tr>\n",
              "    <tr>\n",
              "      <th>max</th>\n",
              "      <td>7.430000e+02</td>\n",
              "      <td>9.244552e+07</td>\n",
              "      <td>5.958504e+07</td>\n",
              "      <td>4.958504e+07</td>\n",
              "      <td>3.560159e+08</td>\n",
              "      <td>3.561793e+08</td>\n",
              "      <td>1.000000e+00</td>\n",
              "      <td>1.000000e+00</td>\n",
              "    </tr>\n",
              "  </tbody>\n",
              "</table>\n",
              "</div>"
            ],
            "text/plain": [
              "               step        amount  oldbalanceOrg  newbalanceOrig  \\\n",
              "count  6.362620e+06  6.362620e+06   6.362620e+06    6.362620e+06   \n",
              "mean   2.433972e+02  1.798619e+05   8.338831e+05    8.551137e+05   \n",
              "std    1.423320e+02  6.038582e+05   2.888243e+06    2.924049e+06   \n",
              "min    1.000000e+00  0.000000e+00   0.000000e+00    0.000000e+00   \n",
              "25%    1.560000e+02  1.338957e+04   0.000000e+00    0.000000e+00   \n",
              "50%    2.390000e+02  7.487194e+04   1.420800e+04    0.000000e+00   \n",
              "75%    3.350000e+02  2.087215e+05   1.073152e+05    1.442584e+05   \n",
              "max    7.430000e+02  9.244552e+07   5.958504e+07    4.958504e+07   \n",
              "\n",
              "       oldbalanceDest  newbalanceDest       isFraud  isFlaggedFraud  \n",
              "count    6.362620e+06    6.362620e+06  6.362620e+06    6.362620e+06  \n",
              "mean     1.100702e+06    1.224996e+06  1.290820e-03    2.514687e-06  \n",
              "std      3.399180e+06    3.674129e+06  3.590480e-02    1.585775e-03  \n",
              "min      0.000000e+00    0.000000e+00  0.000000e+00    0.000000e+00  \n",
              "25%      0.000000e+00    0.000000e+00  0.000000e+00    0.000000e+00  \n",
              "50%      1.327057e+05    2.146614e+05  0.000000e+00    0.000000e+00  \n",
              "75%      9.430367e+05    1.111909e+06  0.000000e+00    0.000000e+00  \n",
              "max      3.560159e+08    3.561793e+08  1.000000e+00    1.000000e+00  "
            ]
          },
          "execution_count": 7,
          "metadata": {},
          "output_type": "execute_result"
        }
      ],
      "source": [
        "dataset.describe()"
      ]
    },
    {
      "cell_type": "code",
      "execution_count": null,
      "id": "539d7192",
      "metadata": {
        "id": "539d7192",
        "outputId": "db4bc8dd-7482-4ec4-a462-71d4caf6f125"
      },
      "outputs": [
        {
          "data": {
            "image/png": "[encoded data removed]",
            "text/plain": [
              "<Figure size 1152x1440 with 9 Axes>"
            ]
          },
          "metadata": {
            "needs_background": "light"
          },
          "output_type": "display_data"
        }
      ],
      "source": [
        "dataset.hist(figsize=(16, 20), bins=50, edgecolor='Black')\n",
        "plt.subplots_adjust(hspace=0.7, wspace=0.4)"
      ]
    },
    {
      "cell_type": "code",
      "execution_count": null,
      "id": "6a0e2bd2",
      "metadata": {
        "id": "6a0e2bd2",
        "outputId": "44dc0d79-0a1b-4498-97fd-ccc4330d3c60"
      },
      "outputs": [
        {
          "name": "stdout",
          "output_type": "stream",
          "text": [
            "step 743 [  1   2   3   4   5   6   7   8   9  10  11  12  13  14  15  16  17  18\n",
            "  19  20  21  22  23  24  25  26  27  28  29  30  31  32  33  34  35  36\n",
            "  37  38  39  40  41  42  43  44  45  46  47  48  49  50  51  52  53  54\n",
            "  55  56  57  58  59  60  61  62  63  64  65  66  67  68  69  70  71  72\n",
            "  73  74  75  76  77  78  79  80  81  82  83  84  85  86  87  88  89  90\n",
            "  91  92  93  94  95  96  97  98  99 100 101 102 103 104 105 106 107 108\n",
            " 109 110 111 112 113 114 115 116 117 118 119 120 121 122 123 124 125 126\n",
            " 127 128 129 130 131 132 133 134 135 136 137 138 139 140 141 142 143 144\n",
            " 145 146 147 148 149 150 151 152 153 154 155 156 157 158 159 160 161 162\n",
            " 163 164 165 166 167 168 169 170 171 172 173 174 175 176 177 178 179 180\n",
            " 181 182 183 184 185 186 187 188 189 190 191 192 193 194 195 196 197 198\n",
            " 199 200 201 202 203 204 205 206 207 208 209 210 211 212 213 214 215 216\n",
            " 217 218 219 220 221 222 223 224 225 226 227 228 229 230 231 232 233 234\n",
            " 235 236 237 238 239 240 241 242 243 244 245 246 247 248 249 250 251 252\n",
            " 253 254 255 256 257 258 259 260 261 262 263 264 265 266 267 268 269 270\n",
            " 271 272 273 274 275 276 277 278 279 280 281 282 283 284 285 286 287 288\n",
            " 289 290 291 292 293 294 295 296 297 298 299 300 301 302 303 304 305 306\n",
            " 307 308 309 310 311 312 313 314 315 316 317 318 319 320 321 322 323 324\n",
            " 325 326 327 328 329 330 331 332 333 334 335 336 337 338 339 340 341 342\n",
            " 343 344 345 346 347 348 349 350 351 352 353 354 355 356 357 358 359 360\n",
            " 361 362 363 364 365 366 367 368 369 370 371 372 373 374 375 376 377 378\n",
            " 379 380 381 382 383 384 385 386 387 388 389 390 391 392 393 394 395 396\n",
            " 397 398 399 400 401 402 403 404 405 406 407 408 409 410 411 412 413 414\n",
            " 415 416 417 418 419 420 421 422 423 424 425 426 427 428 429 430 431 432\n",
            " 433 434 435 436 437 438 439 440 441 442 443 444 445 446 447 448 449 450\n",
            " 451 452 453 454 455 456 457 458 459 460 461 462 463 464 465 466 467 468\n",
            " 469 470 471 472 473 474 475 476 477 478 479 480 481 482 483 484 485 486\n",
            " 487 488 489 490 491 492 493 494 495 496 497 498 499 500 501 502 503 504\n",
            " 505 506 507 508 509 510 511 512 513 514 515 516 517 518 519 520 521 522\n",
            " 523 524 525 526 527 528 529 530 531 532 533 534 535 536 537 538 539 540\n",
            " 541 542 543 544 545 546 547 548 549 550 551 552 553 554 555 556 557 558\n",
            " 559 560 561 562 563 564 565 566 567 568 569 570 571 572 573 574 575 576\n",
            " 577 578 579 580 581 582 583 584 585 586 587 588 589 590 591 592 593 594\n",
            " 595 596 597 598 599 600 601 602 603 604 605 606 607 608 609 610 611 612\n",
            " 613 614 615 616 617 618 619 620 621 622 623 624 625 626 627 628 629 630\n",
            " 631 632 633 634 635 636 637 638 639 640 641 642 643 644 645 646 647 648\n",
            " 649 650 651 652 653 654 655 656 657 658 659 660 661 662 663 664 665 666\n",
            " 667 668 669 670 671 672 673 674 675 676 677 678 679 680 681 682 683 684\n",
            " 685 686 687 688 689 690 691 692 693 694 695 696 697 698 699 700 701 702\n",
            " 703 704 705 706 707 708 709 710 711 712 713 714 715 716 717 718 719 720\n",
            " 721 722 723 724 725 726 727 728 729 730 731 732 733 734 735 736 737 738\n",
            " 739 740 741 742 743]\n",
            "type 5 ['PAYMENT' 'TRANSFER' 'CASH_OUT' 'DEBIT' 'CASH_IN']\n",
            "amount 5316900 [9.83964000e+03 1.86428000e+03 1.81000000e+02 ... 3.39682130e+05\n",
            " 6.31140928e+06 8.50002520e+05]\n",
            "nameOrig 6353307 ['C1231006815' 'C1666544295' 'C1305486145' ... 'C1162922333' 'C1685995037'\n",
            " 'C1280323807']\n",
            "oldbalanceOrg 1845844 [1.70136000e+05 2.12490000e+04 1.81000000e+02 ... 3.39682130e+05\n",
            " 6.31140928e+06 8.50002520e+05]\n",
            "newbalanceOrig 2682586 [1.60296360e+05 1.93847200e+04 0.00000000e+00 ... 2.56745479e+07\n",
            " 1.56745479e+07 5.67454789e+06]\n",
            "nameDest 2722362 ['M1979787155' 'M2044282225' 'C553264065' ... 'C1850423904' 'C1881841831'\n",
            " 'C2080388513']\n",
            "oldbalanceDest 3614697 [      0.     21182.     41898.   ...  503464.5    68488.84 6510099.11]\n",
            "newbalanceDest 3555499 [      0.     40348.79  157982.12 ... 1762283.33 6379898.11 7360101.63]\n",
            "isFraud 2 [0 1]\n",
            "isFlaggedFraud 2 [0 1]\n"
          ]
        }
      ],
      "source": [
        "# Check for unique values in the dataset\n",
        "for column in dataset.columns:\n",
        "  print(column, len(dataset[column].unique()), dataset[column].unique())"
      ]
    },
    {
      "cell_type": "code",
      "execution_count": null,
      "id": "df4b5e7d",
      "metadata": {
        "id": "df4b5e7d",
        "outputId": "6d0a2831-bc8c-48ee-bf75-2a56dc8debb3"
      },
      "outputs": [
        {
          "data": {
            "text/plain": [
              "CASH_OUT    2237500\n",
              "PAYMENT     2151495\n",
              "CASH_IN     1399284\n",
              "TRANSFER     532909\n",
              "DEBIT         41432\n",
              "Name: type, dtype: int64"
            ]
          },
          "execution_count": 10,
          "metadata": {},
          "output_type": "execute_result"
        }
      ],
      "source": [
        "dataset['type'].value_counts()"
      ]
    },
    {
      "cell_type": "markdown",
      "id": "d5e95e75",
      "metadata": {
        "id": "d5e95e75"
      },
      "source": [
        "The unique values from the coloumn 'type'"
      ]
    },
    {
      "cell_type": "markdown",
      "id": "379cecfb",
      "metadata": {
        "id": "379cecfb"
      },
      "source": [
        "### Checking for outliers"
      ]
    },
    {
      "cell_type": "code",
      "execution_count": null,
      "id": "2499156c",
      "metadata": {
        "id": "2499156c",
        "outputId": "a40484fa-f8ee-4831-b824-bef0fb406f2f"
      },
      "outputs": [
        {
          "data": {
            "text/plain": [
              "count    6.362620e+06\n",
              "mean     1.798619e+05\n",
              "std      6.038582e+05\n",
              "min      0.000000e+00\n",
              "25%      1.338957e+04\n",
              "50%      7.487194e+04\n",
              "75%      2.087215e+05\n",
              "max      9.244552e+07\n",
              "Name: amount, dtype: float64"
            ]
          },
          "execution_count": 11,
          "metadata": {},
          "output_type": "execute_result"
        }
      ],
      "source": [
        "dataset['amount'].describe()"
      ]
    },
    {
      "cell_type": "code",
      "execution_count": null,
      "id": "9d85f77e",
      "metadata": {
        "id": "9d85f77e",
        "outputId": "7b81ebe9-bbae-4a07-a75f-533d30af06ef"
      },
      "outputs": [
        {
          "name": "stderr",
          "output_type": "stream",
          "text": [
            "C:\\Users\\Vibha\\anaconda3\\lib\\site-packages\\seaborn\\_decorators.py:36: FutureWarning: Pass the following variable as a keyword arg: x. From version 0.12, the only valid positional argument will be `data`, and passing other arguments without an explicit keyword will result in an error or misinterpretation.\n",
            "  warnings.warn(\n"
          ]
        },
        {
          "data": {
            "image/png": "[encoded data removed]",
            "text/plain": [
              "<Figure size 432x288 with 1 Axes>"
            ]
          },
          "metadata": {},
          "output_type": "display_data"
        }
      ],
      "source": [
        "import seaborn as sns\n",
        "sns.set_theme(style=\"ticks\", palette=\"pastel\")\n",
        "sns.boxplot(dataset.amount)\n",
        "plt.show()"
      ]
    },
    {
      "cell_type": "code",
      "execution_count": null,
      "id": "6f04cfcb",
      "metadata": {
        "id": "6f04cfcb",
        "outputId": "b8e90f0d-04bd-40f5-caef-f61754f583b1"
      },
      "outputs": [
        {
          "data": {
            "text/plain": [
              "92445516.64"
            ]
          },
          "execution_count": 13,
          "metadata": {},
          "output_type": "execute_result"
        }
      ],
      "source": [
        "max(dataset.amount)"
      ]
    },
    {
      "cell_type": "code",
      "execution_count": null,
      "id": "a78dfc06",
      "metadata": {
        "id": "a78dfc06",
        "outputId": "c250a2ad-0117-47d3-ebdd-d0cef4de7ee7"
      },
      "outputs": [
        {
          "data": {
            "text/plain": [
              "(1, 11)"
            ]
          },
          "execution_count": 14,
          "metadata": {},
          "output_type": "execute_result"
        }
      ],
      "source": [
        "dataset[dataset.amount>85000000.00].shape"
      ]
    },
    {
      "cell_type": "code",
      "execution_count": null,
      "id": "fa7f5ff2",
      "metadata": {
        "id": "fa7f5ff2"
      },
      "outputs": [],
      "source": [
        "#remove the outlier\n",
        "dataset = dataset[dataset.amount<80000000]"
      ]
    },
    {
      "cell_type": "code",
      "execution_count": null,
      "id": "eec488b8",
      "metadata": {
        "id": "eec488b8",
        "outputId": "5b9758e1-c865-480d-ca8b-21c17d3d2f55"
      },
      "outputs": [
        {
          "data": {
            "text/plain": [
              "(0, 11)"
            ]
          },
          "execution_count": 16,
          "metadata": {},
          "output_type": "execute_result"
        }
      ],
      "source": [
        "dataset[dataset.amount>80000000].shape"
      ]
    },
    {
      "cell_type": "code",
      "execution_count": null,
      "id": "a3eaba80",
      "metadata": {
        "id": "a3eaba80",
        "outputId": "915d8718-e8a6-4758-eee5-b537f837f4ed"
      },
      "outputs": [
        {
          "data": {
            "text/plain": [
              "73823490.36"
            ]
          },
          "execution_count": 18,
          "metadata": {},
          "output_type": "execute_result"
        }
      ],
      "source": [
        "max(dataset.amount)"
      ]
    },
    {
      "cell_type": "markdown",
      "id": "3a904a5b",
      "metadata": {
        "id": "3a904a5b"
      },
      "source": [
        "There was a huge difference between the max value and the 50 percentile value.\n",
        "\n",
        "The boxplot also shows us that an outlier is present."
      ]
    },
    {
      "cell_type": "markdown",
      "id": "41c59b77",
      "metadata": {
        "id": "41c59b77"
      },
      "source": [
        "#### We will further analyse the data through data visualization  "
      ]
    },
    {
      "cell_type": "code",
      "execution_count": null,
      "id": "32337fe4",
      "metadata": {
        "id": "32337fe4",
        "outputId": "bd2ec49b-84b2-499b-bbf8-53279a828ac9"
      },
      "outputs": [
        {
          "data": {
            "text/plain": [
              "<AxesSubplot:>"
            ]
          },
          "execution_count": 20,
          "metadata": {},
          "output_type": "execute_result"
        },
        {
          "data": {
            "image/png": "[encoded data removed]",
            "text/plain": [
              "<Figure size 432x288 with 1 Axes>"
            ]
          },
          "metadata": {},
          "output_type": "display_data"
        }
      ],
      "source": [
        "dataset.type.value_counts().plot.bar()"
      ]
    },
    {
      "cell_type": "code",
      "execution_count": null,
      "id": "b7e447e5",
      "metadata": {
        "id": "b7e447e5",
        "outputId": "28b32983-0829-4cdf-c03a-4370fd3dec51"
      },
      "outputs": [
        {
          "data": {
            "text/plain": [
              "0    6354406\n",
              "1       8213\n",
              "Name: isFraud, dtype: int64"
            ]
          },
          "execution_count": 22,
          "metadata": {},
          "output_type": "execute_result"
        }
      ],
      "source": [
        "dataset['isFraud'].value_counts()"
      ]
    },
    {
      "cell_type": "code",
      "execution_count": null,
      "id": "003c6bf6",
      "metadata": {
        "id": "003c6bf6",
        "outputId": "109518ee-fbf1-42a0-8643-5e3277e9bd98"
      },
      "outputs": [
        {
          "data": {
            "text/plain": [
              "<AxesSubplot:>"
            ]
          },
          "execution_count": 24,
          "metadata": {},
          "output_type": "execute_result"
        },
        {
          "data": {
            "image/png": "[encoded data removed]",
            "text/plain": [
              "<Figure size 432x288 with 1 Axes>"
            ]
          },
          "metadata": {},
          "output_type": "display_data"
        }
      ],
      "source": [
        "dataset['isFraud'].value_counts().plot.bar()"
      ]
    },
    {
      "cell_type": "code",
      "execution_count": null,
      "id": "6ff2851d",
      "metadata": {
        "id": "6ff2851d",
        "outputId": "b141be24-f8c7-43dd-e7f8-de91b95a3d99"
      },
      "outputs": [
        {
          "data": {
            "text/plain": [
              "0    6362603\n",
              "1         16\n",
              "Name: isFlaggedFraud, dtype: int64"
            ]
          },
          "execution_count": 25,
          "metadata": {},
          "output_type": "execute_result"
        }
      ],
      "source": [
        "dataset['isFlaggedFraud'].value_counts()"
      ]
    },
    {
      "cell_type": "code",
      "execution_count": null,
      "id": "9d8a1fcb",
      "metadata": {
        "id": "9d8a1fcb",
        "outputId": "de6f273f-6a4c-4f4d-b7e0-d1aaf7fad94b"
      },
      "outputs": [
        {
          "data": {
            "text/plain": [
              "<AxesSubplot:>"
            ]
          },
          "execution_count": 27,
          "metadata": {},
          "output_type": "execute_result"
        },
        {
          "data": {
            "image/png": "[encoded data removed]",
            "text/plain": [
              "<Figure size 432x288 with 1 Axes>"
            ]
          },
          "metadata": {},
          "output_type": "display_data"
        }
      ],
      "source": [
        "dataset['isFlaggedFraud'].value_counts().plot.bar()"
      ]
    },
    {
      "cell_type": "code",
      "execution_count": null,
      "id": "888050cd",
      "metadata": {
        "id": "888050cd"
      },
      "outputs": [],
      "source": [
        "#Seperating normal and fraud data\n",
        "normal = dataset[dataset.isFraud == 0]\n",
        "fraud = dataset[dataset.isFraud == 1]"
      ]
    },
    {
      "cell_type": "code",
      "execution_count": null,
      "id": "ba8dc46c",
      "metadata": {
        "id": "ba8dc46c",
        "outputId": "23329801-e3ae-44f1-81c5-8615f493220d"
      },
      "outputs": [
        {
          "name": "stdout",
          "output_type": "stream",
          "text": [
            "(6354406, 11)\n",
            "(8213, 11)\n"
          ]
        }
      ],
      "source": [
        "print(normal.shape)\n",
        "print(fraud.shape)"
      ]
    },
    {
      "cell_type": "markdown",
      "id": "af9d4253",
      "metadata": {
        "id": "af9d4253"
      },
      "source": [
        "Our dataset is imbalanced"
      ]
    },
    {
      "cell_type": "code",
      "execution_count": null,
      "id": "0d3d1e3f",
      "metadata": {
        "id": "0d3d1e3f",
        "outputId": "4e515fe7-79a9-4ef9-be6d-92c69c942d0f"
      },
      "outputs": [
        {
          "data": {
            "text/plain": [
              "count    6.354406e+06\n",
              "mean     1.781825e+05\n",
              "std      5.951125e+05\n",
              "min      1.000000e-02\n",
              "25%      1.336839e+04\n",
              "50%      7.468468e+04\n",
              "75%      2.083646e+05\n",
              "max      7.382349e+07\n",
              "Name: amount, dtype: float64"
            ]
          },
          "execution_count": 30,
          "metadata": {},
          "output_type": "execute_result"
        }
      ],
      "source": [
        "normal.amount.describe()"
      ]
    },
    {
      "cell_type": "code",
      "execution_count": null,
      "id": "454af7b8",
      "metadata": {
        "id": "454af7b8",
        "outputId": "b9df2dff-5644-4d7f-a8f6-519a6ba015b9"
      },
      "outputs": [
        {
          "data": {
            "text/plain": [
              "count    8.213000e+03\n",
              "mean     1.467967e+06\n",
              "std      2.404253e+06\n",
              "min      0.000000e+00\n",
              "25%      1.270913e+05\n",
              "50%      4.414234e+05\n",
              "75%      1.517771e+06\n",
              "max      1.000000e+07\n",
              "Name: amount, dtype: float64"
            ]
          },
          "execution_count": 31,
          "metadata": {},
          "output_type": "execute_result"
        }
      ],
      "source": [
        "fraud.amount.describe()"
      ]
    },
    {
      "cell_type": "code",
      "execution_count": null,
      "id": "8c539407",
      "metadata": {
        "id": "8c539407",
        "outputId": "45d0427f-852e-4f72-cf4a-55fd8ce08484"
      },
      "outputs": [
        {
          "name": "stderr",
          "output_type": "stream",
          "text": [
            "C:\\Users\\Vibha\\AppData\\Local\\Temp\\ipykernel_4776\\451964714.py:1: FutureWarning: Indexing with multiple keys (implicitly converted to a tuple of keys) will be deprecated, use a list instead.\n",
            "  dataset.groupby('type')['isFraud','isFlaggedFraud'].sum()\n"
          ]
        },
        {
          "data": {
            "text/html": [
              "<div>\n",
              "<style scoped>\n",
              "    .dataframe tbody tr th:only-of-type {\n",
              "        vertical-align: middle;\n",
              "    }\n",
              "\n",
              "    .dataframe tbody tr th {\n",
              "        vertical-align: top;\n",
              "    }\n",
              "\n",
              "    .dataframe thead th {\n",
              "        text-align: right;\n",
              "    }\n",
              "</style>\n",
              "<table border=\"1\" class=\"dataframe\">\n",
              "  <thead>\n",
              "    <tr style=\"text-align: right;\">\n",
              "      <th></th>\n",
              "      <th>isFraud</th>\n",
              "      <th>isFlaggedFraud</th>\n",
              "    </tr>\n",
              "    <tr>\n",
              "      <th>type</th>\n",
              "      <th></th>\n",
              "      <th></th>\n",
              "    </tr>\n",
              "  </thead>\n",
              "  <tbody>\n",
              "    <tr>\n",
              "      <th>CASH_IN</th>\n",
              "      <td>0</td>\n",
              "      <td>0</td>\n",
              "    </tr>\n",
              "    <tr>\n",
              "      <th>CASH_OUT</th>\n",
              "      <td>4116</td>\n",
              "      <td>0</td>\n",
              "    </tr>\n",
              "    <tr>\n",
              "      <th>DEBIT</th>\n",
              "      <td>0</td>\n",
              "      <td>0</td>\n",
              "    </tr>\n",
              "    <tr>\n",
              "      <th>PAYMENT</th>\n",
              "      <td>0</td>\n",
              "      <td>0</td>\n",
              "    </tr>\n",
              "    <tr>\n",
              "      <th>TRANSFER</th>\n",
              "      <td>4097</td>\n",
              "      <td>16</td>\n",
              "    </tr>\n",
              "  </tbody>\n",
              "</table>\n",
              "</div>"
            ],
            "text/plain": [
              "          isFraud  isFlaggedFraud\n",
              "type                             \n",
              "CASH_IN         0               0\n",
              "CASH_OUT     4116               0\n",
              "DEBIT           0               0\n",
              "PAYMENT         0               0\n",
              "TRANSFER     4097              16"
            ]
          },
          "execution_count": 33,
          "metadata": {},
          "output_type": "execute_result"
        }
      ],
      "source": [
        "dataset.groupby('type')['isFraud','isFlaggedFraud'].sum()"
      ]
    },
    {
      "cell_type": "markdown",
      "id": "adccbde3",
      "metadata": {
        "id": "adccbde3"
      },
      "source": [
        "####  With this we come to know fraud occurs only in  CASH_OUT and TRANSFER\n",
        "\n",
        "This is a key factor to predict fradulent customer "
      ]
    },
    {
      "cell_type": "code",
      "execution_count": null,
      "id": "3689387a",
      "metadata": {
        "id": "3689387a",
        "outputId": "6052c078-0ec1-48f8-a851-325125feaf23"
      },
      "outputs": [
        {
          "name": "stdout",
          "output_type": "stream",
          "text": [
            "4097\n",
            "4116\n"
          ]
        }
      ],
      "source": [
        "# Merchant flag for source and dist\n",
        "dataset['OrigC']=dataset['nameOrig'].apply(lambda x: 1 if str(x).find('C')==0 else 0)\n",
        "dataset['DestC']=dataset['nameDest'].apply(lambda x: 1 if str(x).find('C')==0 else 0)\n",
        "fraudTransfer = dataset.loc[(dataset.isFraud == 1) & (dataset.type == 'TRANSFER')]\n",
        "fraudCashout = dataset.loc[(dataset.isFraud == 1) & (dataset.type == 'CASH_OUT')]\n",
        "print(len(fraudTransfer))\n",
        "print(len(fraudCashout))"
      ]
    },
    {
      "cell_type": "code",
      "execution_count": null,
      "id": "965e2df8",
      "metadata": {
        "id": "965e2df8"
      },
      "outputs": [],
      "source": [
        "# droping those feature which are category and used as feature extraction\n",
        "droplist=['isFlaggedFraud','type','nameDest','nameOrig']"
      ]
    },
    {
      "cell_type": "markdown",
      "id": "91f09bbe",
      "metadata": {
        "id": "91f09bbe"
      },
      "source": [
        "Fraud data from TRANSFER : 4097\n",
        "\n",
        "Fraud data from CASH_OUT : 4116\n",
        "\n"
      ]
    },
    {
      "cell_type": "code",
      "execution_count": null,
      "id": "9fdd64f4",
      "metadata": {
        "id": "9fdd64f4"
      },
      "outputs": [],
      "source": [
        "new_dataset = dataset.drop(labels=droplist,axis=1)\n",
        "X=new_dataset.drop('isFraud',axis=1)\n",
        "Y=new_dataset.isFraud"
      ]
    },
    {
      "cell_type": "code",
      "execution_count": null,
      "id": "8818948c",
      "metadata": {
        "id": "8818948c"
      },
      "outputs": [],
      "source": [
        "from sklearn.model_selection import train_test_split\n",
        "from sklearn.linear_model import LogisticRegression\n",
        "from sklearn.metrics import accuracy_score\n",
        "\n",
        "X_train, X_test, y_train, y_test = train_test_split(X, Y, test_size = 0.3,random_state=42, shuffle=False)\n"
      ]
    },
    {
      "cell_type": "markdown",
      "id": "eac640de",
      "metadata": {
        "id": "eac640de"
      },
      "source": [
        "Logistic Regression - We use logistic regression for binary classification problems "
      ]
    },
    {
      "cell_type": "code",
      "execution_count": null,
      "id": "f6acaabe",
      "metadata": {
        "id": "f6acaabe"
      },
      "outputs": [],
      "source": [
        "model = LogisticRegression()\n"
      ]
    },
    {
      "cell_type": "code",
      "execution_count": null,
      "id": "02e6fd89",
      "metadata": {
        "id": "02e6fd89",
        "outputId": "cf9ce780-5da9-4390-b059-bfa5807f8a7c"
      },
      "outputs": [
        {
          "data": {
            "text/plain": [
              "LogisticRegression()"
            ]
          },
          "execution_count": 39,
          "metadata": {},
          "output_type": "execute_result"
        }
      ],
      "source": [
        "model.fit(X_train,y_train)"
      ]
    },
    {
      "cell_type": "code",
      "execution_count": null,
      "id": "8e4435ea",
      "metadata": {
        "id": "8e4435ea"
      },
      "outputs": [],
      "source": [
        "# accuracy on training data\n",
        "X_train_prediction = model.predict(X_train)\n",
        "training_data_accuracy = accuracy_score(X_train_prediction, y_train)"
      ]
    },
    {
      "cell_type": "code",
      "execution_count": null,
      "id": "655bbb01",
      "metadata": {
        "id": "655bbb01",
        "outputId": "0c59a545-b1d9-4b3e-a4e4-db58a495c77c"
      },
      "outputs": [
        {
          "name": "stdout",
          "output_type": "stream",
          "text": [
            "Accuracy on training data:  0.9991209818598946\n"
          ]
        }
      ],
      "source": [
        "print('Accuracy on training data: ', training_data_accuracy)"
      ]
    },
    {
      "cell_type": "code",
      "execution_count": null,
      "id": "b859e6b8",
      "metadata": {
        "id": "b859e6b8"
      },
      "outputs": [],
      "source": [
        "# Accuracy on test data.\n",
        "X_test_prediction = model.predict(X_test )\n",
        "test_data_accuracy = accuracy_score(X_test_prediction, y_test)"
      ]
    },
    {
      "cell_type": "code",
      "execution_count": null,
      "id": "5472d5c1",
      "metadata": {
        "id": "5472d5c1",
        "outputId": "f4ab6469-0544-411e-d623-5ed009f5d4a2"
      },
      "outputs": [
        {
          "name": "stdout",
          "output_type": "stream",
          "text": [
            "Accuracy score on test data:  0.9980228270743813\n"
          ]
        }
      ],
      "source": [
        "print('Accuracy score on test data: ', test_data_accuracy)"
      ]
    },
    {
      "cell_type": "markdown",
      "id": "6ed3b396",
      "metadata": {
        "id": "6ed3b396"
      },
      "source": [
        ""
      ]
    }
  ],
  "metadata": {
    "kernelspec": {
      "display_name": "Python 3 (ipykernel)",
      "language": "python",
      "name": "python3"
    },
    "language_info": {
      "codemirror_mode": {
        "name": "ipython",
        "version": 3
      },
      "file_extension": ".py",
      "mimetype": "text/x-python",
      "name": "python",
      "nbconvert_exporter": "python",
      "pygments_lexer": "ipython3",
      "version": "3.9.12"
    },
    "colab": {
      "name": "FraudDetection.ipynb",
      "provenance": [],
      "collapsed_sections": []
    }
  },
  "nbformat": 4,
  "nbformat_minor": 5
}